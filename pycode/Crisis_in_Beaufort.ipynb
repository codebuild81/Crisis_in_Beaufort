{
 "cells": [
  {
   "cell_type": "markdown",
   "metadata": {},
   "source": [
    "# Project: Crisis in Beaufort (Apply Statistics)\n",
    "# Name:       Asim Jana\n",
    "# E-mail: asim.jana@gmail.com"
   ]
  },
  {
   "cell_type": "markdown",
   "metadata": {},
   "source": [
    "Problem Statement:\n",
    "In Beaufort Police Department, Chief Police Officer called great Data Scientist, Patrick & told that \" I want you to look at the data and come up with a proposal to tackle crime in the city\".\n",
    "\n",
    "Now, Patrick has following steps:\n",
    "1. Identify the different ‘Crime’categories.\n",
    "2. Gather data for the past 10 years.\n",
    "3. Analyze the data for any trends.\n",
    "4. Report his findings to Jemes.\n",
    "\n",
    "There are different crimes like Car theft, Burglary, Bike theft, Violence, Vandalism.\n",
    "Patrick collected below data for Car Theft incidents.\n",
    "1. Total Car Theft incidents in the past decade: 1500\n",
    "\n",
    "Car_Thefts_yr Count\n",
    "2008\t  151\n",
    "2009\t  158\n",
    "2010\t  161\n",
    "2011\t  148\n",
    "2012\t  155\n",
    "2013\t  194\n",
    "2014\t  140\n",
    "2015\t  169\n",
    "2016\t  172\n",
    "\n",
    "This is data set for year 2017.\n",
    "year: 2017\n",
    "-----------\n",
    "Month\tCount\n",
    "Jan\t     8\n",
    "Feb\t    14\n",
    "Mar\t    21\n",
    "Apr\t    25\n",
    "May\t    33\n",
    "Jun\t    ?\n",
    "\n",
    "What should be the count for jun, 2017? \n",
    "What should be the next actions & solutions from Patrick end?"
   ]
  },
  {
   "cell_type": "markdown",
   "metadata": {},
   "source": [
    "1. To identify trends, need to summarize the data and need to calculate mean."
   ]
  },
  {
   "cell_type": "code",
   "execution_count": 12,
   "metadata": {
    "collapsed": false
   },
   "outputs": [],
   "source": [
    "import numpy as np\n",
    "import pandas as pd"
   ]
  },
  {
   "cell_type": "code",
   "execution_count": 21,
   "metadata": {
    "collapsed": false
   },
   "outputs": [
    {
     "data": {
      "text/html": [
       "<div>\n",
       "<table border=\"1\" class=\"dataframe\">\n",
       "  <thead>\n",
       "    <tr style=\"text-align: right;\">\n",
       "      <th></th>\n",
       "      <th>Car_Thefts_yr</th>\n",
       "      <th>Count_yr</th>\n",
       "    </tr>\n",
       "  </thead>\n",
       "  <tbody>\n",
       "    <tr>\n",
       "      <th>0</th>\n",
       "      <td>2008</td>\n",
       "      <td>151</td>\n",
       "    </tr>\n",
       "    <tr>\n",
       "      <th>1</th>\n",
       "      <td>2009</td>\n",
       "      <td>158</td>\n",
       "    </tr>\n",
       "    <tr>\n",
       "      <th>2</th>\n",
       "      <td>2010</td>\n",
       "      <td>161</td>\n",
       "    </tr>\n",
       "    <tr>\n",
       "      <th>3</th>\n",
       "      <td>2011</td>\n",
       "      <td>148</td>\n",
       "    </tr>\n",
       "    <tr>\n",
       "      <th>4</th>\n",
       "      <td>2012</td>\n",
       "      <td>155</td>\n",
       "    </tr>\n",
       "    <tr>\n",
       "      <th>5</th>\n",
       "      <td>2013</td>\n",
       "      <td>194</td>\n",
       "    </tr>\n",
       "    <tr>\n",
       "      <th>6</th>\n",
       "      <td>2014</td>\n",
       "      <td>140</td>\n",
       "    </tr>\n",
       "    <tr>\n",
       "      <th>7</th>\n",
       "      <td>2015</td>\n",
       "      <td>169</td>\n",
       "    </tr>\n",
       "    <tr>\n",
       "      <th>8</th>\n",
       "      <td>2016</td>\n",
       "      <td>172</td>\n",
       "    </tr>\n",
       "  </tbody>\n",
       "</table>\n",
       "</div>"
      ],
      "text/plain": [
       "   Car_Thefts_yr  Count_yr\n",
       "0           2008       151\n",
       "1           2009       158\n",
       "2           2010       161\n",
       "3           2011       148\n",
       "4           2012       155\n",
       "5           2013       194\n",
       "6           2014       140\n",
       "7           2015       169\n",
       "8           2016       172"
      ]
     },
     "execution_count": 21,
     "metadata": {},
     "output_type": "execute_result"
    }
   ],
   "source": [
    "# dictionary data\n",
    "Dataf = {'Car_Thefts_yr': [2008,2009,2010,2011,2012,2013,2014,2015,2016], 'Count_yr': [151,158,161,148,155,194,140,169,172]}\n",
    "\n",
    "#assigning data into pandas dataframe\n",
    "Datac = pd.DataFrame(data=Dataf)\n",
    "Datac"
   ]
  },
  {
   "cell_type": "code",
   "execution_count": 23,
   "metadata": {
    "collapsed": false
   },
   "outputs": [
    {
     "data": {
      "text/plain": [
       "160.88888888888889"
      ]
     },
     "execution_count": 23,
     "metadata": {},
     "output_type": "execute_result"
    }
   ],
   "source": [
    "#After looking into dataset, I should calculate MEAN to find out the count for the year 2017\n",
    "Mean2017 = np.mean(Datac['Count_yr'])\n",
    "Mean2017"
   ]
  },
  {
   "cell_type": "code",
   "execution_count": 28,
   "metadata": {
    "collapsed": false
   },
   "outputs": [
    {
     "data": {
      "text/plain": [
       "15.014396383652327"
      ]
     },
     "execution_count": 28,
     "metadata": {},
     "output_type": "execute_result"
    }
   ],
   "source": [
    "#Standard deviation of above data set.\n",
    "std_dev_2017 = np.std(Datac['Count_yr'])\n",
    "std_dev_2017"
   ]
  },
  {
   "cell_type": "code",
   "execution_count": 29,
   "metadata": {
    "collapsed": false
   },
   "outputs": [
    {
     "data": {
      "text/plain": [
       "9.33215244840269"
      ]
     },
     "execution_count": 29,
     "metadata": {},
     "output_type": "execute_result"
    }
   ],
   "source": [
    "percentage_of_std_dev_2017 = (std_dev_2017/Mean2017)*100\n",
    "percentage_of_std_dev_2017"
   ]
  },
  {
   "cell_type": "markdown",
   "metadata": {},
   "source": [
    "# Standard deviation is less than 10%. \n",
    "1. In a year on average 161 car theft and there my be additional 15 cars stolen or 15 cars not stolen.\n",
    "2. Between 146 to 176 cars are being stolen in every year.\n",
    "3. With above knowledge, I should examine what is happening over time to see if any increases had appeared.\n",
    "\n",
    "So, need to analyze monthly data for 2017.\n",
    "This would tell what was happening this year, by month, and point out any increases that appear to be related to a crime pattern. "
   ]
  },
  {
   "cell_type": "code",
   "execution_count": 17,
   "metadata": {
    "collapsed": false
   },
   "outputs": [
    {
     "data": {
      "text/html": [
       "<div>\n",
       "<table border=\"1\" class=\"dataframe\">\n",
       "  <thead>\n",
       "    <tr style=\"text-align: right;\">\n",
       "      <th></th>\n",
       "      <th>Count_2017</th>\n",
       "      <th>Month_2017</th>\n",
       "    </tr>\n",
       "  </thead>\n",
       "  <tbody>\n",
       "    <tr>\n",
       "      <th>0</th>\n",
       "      <td>8</td>\n",
       "      <td>Jan</td>\n",
       "    </tr>\n",
       "    <tr>\n",
       "      <th>1</th>\n",
       "      <td>14</td>\n",
       "      <td>Feb</td>\n",
       "    </tr>\n",
       "    <tr>\n",
       "      <th>2</th>\n",
       "      <td>21</td>\n",
       "      <td>Mar</td>\n",
       "    </tr>\n",
       "    <tr>\n",
       "      <th>3</th>\n",
       "      <td>25</td>\n",
       "      <td>Apr</td>\n",
       "    </tr>\n",
       "    <tr>\n",
       "      <th>4</th>\n",
       "      <td>33</td>\n",
       "      <td>May</td>\n",
       "    </tr>\n",
       "  </tbody>\n",
       "</table>\n",
       "</div>"
      ],
      "text/plain": [
       "   Count_2017 Month_2017\n",
       "0           8        Jan\n",
       "1          14        Feb\n",
       "2          21        Mar\n",
       "3          25        Apr\n",
       "4          33        May"
      ]
     },
     "execution_count": 17,
     "metadata": {},
     "output_type": "execute_result"
    }
   ],
   "source": [
    "#Data set for year 2017\n",
    "Dataf2017 = {'Month_2017': ['Jan','Feb','Mar','Apr','May'], 'Count_2017': [8,14,21,25,33]}\n",
    "Datac2017 = pd.DataFrame(data = Dataf2017)\n",
    "Datac2017"
   ]
  },
  {
   "cell_type": "code",
   "execution_count": null,
   "metadata": {
    "collapsed": true
   },
   "outputs": [],
   "source": []
  },
  {
   "cell_type": "code",
   "execution_count": 32,
   "metadata": {
    "collapsed": false
   },
   "outputs": [
    {
     "data": {
      "text/plain": [
       "20.2"
      ]
     },
     "execution_count": 32,
     "metadata": {},
     "output_type": "execute_result"
    }
   ],
   "source": [
    "Mean2017mon = np.mean(Datac2017['Count_2017'])\n",
    "Mean2017mon"
   ]
  },
  {
   "cell_type": "code",
   "execution_count": 33,
   "metadata": {
    "collapsed": false
   },
   "outputs": [
    {
     "data": {
      "text/plain": [
       "8.657944328765346"
      ]
     },
     "execution_count": 33,
     "metadata": {},
     "output_type": "execute_result"
    }
   ],
   "source": [
    "Std_dev = np.std(Datac2017['Count_2017'])\n",
    "Std_dev"
   ]
  },
  {
   "cell_type": "code",
   "execution_count": 34,
   "metadata": {
    "collapsed": false
   },
   "outputs": [
    {
     "data": {
      "text/plain": [
       "42.86111053844231"
      ]
     },
     "execution_count": 34,
     "metadata": {},
     "output_type": "execute_result"
    }
   ],
   "source": [
    "percentage_of_Std_dev = (Std_dev/Mean2017mon)*100\n",
    "percentage_of_Std_dev"
   ]
  },
  {
   "cell_type": "code",
   "execution_count": 39,
   "metadata": {
    "collapsed": false
   },
   "outputs": [
    {
     "name": "stdout",
     "output_type": "stream",
     "text": [
      "242.39999999999998\n",
      "141.39999999999998\n"
     ]
    },
    {
     "data": {
      "text/plain": [
       "20.199999999999996"
      ]
     },
     "execution_count": 39,
     "metadata": {},
     "output_type": "execute_result"
    }
   ],
   "source": [
    "total_theft_2017 = (Mean2017mon *12)\n",
    "remain_total_theft_2017 = (Mean2017mon *12) - np.sum(Datac2017['Count_2017'])\n",
    "print(total_theft_2017)\n",
    "print(remain_total_theft_2017)\n",
    "avg_of_rest_mon2017 = (remain_total_theft_2017/7)\n",
    "avg_of_rest_mon2017"
   ]
  },
  {
   "cell_type": "markdown",
   "metadata": {},
   "source": [
    "Standard deviation is 43% (high value) and the average monthly value is 20.\n",
    "1. Upon examine of the monthly report, it is found that there did appeared to be a rise in the number of cars stolen over the past five month.\n",
    "2. But average number of cars stolen this year for eavery month is 20."
   ]
  },
  {
   "cell_type": "markdown",
   "metadata": {},
   "source": [
    "# Report Findings:\n"
   ]
  },
  {
   "cell_type": "markdown",
   "metadata": {},
   "source": [
    "1. It is found that the Cars Thefta are indeed increasing quite alarmingly compared to the average (242 vs 161).\n",
    "2. Based on the above findings, James should deploy specialized police investigators trained in handling car burglaries \n",
    "across Beaufort"
   ]
  },
  {
   "cell_type": "code",
   "execution_count": null,
   "metadata": {
    "collapsed": true
   },
   "outputs": [],
   "source": []
  }
 ],
 "metadata": {
  "kernelspec": {
   "display_name": "Python 3",
   "language": "python",
   "name": "python3"
  },
  "language_info": {
   "codemirror_mode": {
    "name": "ipython",
    "version": 3
   },
   "file_extension": ".py",
   "mimetype": "text/x-python",
   "name": "python",
   "nbconvert_exporter": "python",
   "pygments_lexer": "ipython3",
   "version": "3.6.0"
  }
 },
 "nbformat": 4,
 "nbformat_minor": 2
}
